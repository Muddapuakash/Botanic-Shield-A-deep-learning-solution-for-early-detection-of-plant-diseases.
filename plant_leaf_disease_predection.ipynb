{
  "cells": [
    {
      "cell_type": "code",
      "execution_count": 1,
      "metadata": {
        "colab": {
          "base_uri": "https://localhost:8080/"
        },
        "id": "Vz75N8Qa9ahN",
        "outputId": "40581f21-d7d1-45e8-c398-f71a182c8bf8"
      },
      "outputs": [
        {
          "output_type": "stream",
          "name": "stdout",
          "text": [
            "/content\n"
          ]
        }
      ],
      "source": [
        "!pwd"
      ]
    },
    {
      "cell_type": "code",
      "execution_count": 2,
      "metadata": {
        "colab": {
          "base_uri": "https://localhost:8080/"
        },
        "id": "vkow22Ci9fLT",
        "outputId": "a6502c84-07f6-44c2-e2d2-de7dfa21ec59"
      },
      "outputs": [
        {
          "output_type": "stream",
          "name": "stdout",
          "text": [
            "Mounted at /content/drive\n"
          ]
        }
      ],
      "source": [
        "from google.colab import drive\n",
        "drive.mount('/content/drive')"
      ]
    },
    {
      "cell_type": "code",
      "execution_count": 3,
      "metadata": {
        "colab": {
          "base_uri": "https://localhost:8080/"
        },
        "id": "a747NI5L9tZH",
        "outputId": "c3b8c5c0-4bc0-418a-8abd-89da300d4248"
      },
      "outputs": [
        {
          "output_type": "stream",
          "name": "stdout",
          "text": [
            "Blight\tCommon_Rust  Gray_Leaf_Spot  Healthy\n"
          ]
        }
      ],
      "source": [
        "!ls \"/content/drive/MyDrive/content/project/dataset/data\""
      ]
    },
    {
      "cell_type": "markdown",
      "metadata": {
        "id": "bb8B4uxm-D0q"
      },
      "source": [
        "## **required libraries**"
      ]
    },
    {
      "cell_type": "code",
      "execution_count": 7,
      "metadata": {
        "id": "yGDRkL-M-LbZ"
      },
      "outputs": [],
      "source": [
        "import numpy as np\n",
        "import pandas as pd\n",
        "import matplotlib.pyplot as plt\n",
        "import cv2\n",
        "import cv2\n",
        "import random\n",
        "import os\n",
        "from os import listdir\n",
        "from PIL import Image\n",
        "import tensorflow as tf\n",
        "from keras.preprocessing import image\n",
        "from tensorflow.keras.utils import img_to_array,array_to_img\n",
        "from keras.optimizers import Adam\n",
        "from keras.models import Sequential\n",
        "from sklearn.model_selection import train_test_split\n",
        "from keras.models import model_from_json\n",
        "from keras.utils import to_categorical\n",
        "from keras.layers import Activation,Flatten, Dropout,Dense\n",
        "from keras.layers import Conv2D, MaxPooling2D"
      ]
    },
    {
      "cell_type": "code",
      "execution_count": 8,
      "metadata": {
        "colab": {
          "base_uri": "https://localhost:8080/"
        },
        "id": "IFZGVpQsBVSy",
        "outputId": "02dacc4c-9c8a-4737-c262-309fcfef3b4c"
      },
      "outputs": [
        {
          "output_type": "stream",
          "name": "stdout",
          "text": [
            "2.15.0\n"
          ]
        }
      ],
      "source": [
        "print(tf.__version__)"
      ]
    },
    {
      "cell_type": "code",
      "execution_count": 9,
      "metadata": {
        "id": "LxMRfgqJHJwN"
      },
      "outputs": [],
      "source": [
        "def convert_image_to_array(image_dir):\n",
        "  try:\n",
        "    image=cv2.imread(image_dir)\n",
        "    if image is not None:\n",
        "      image=cv2.resize(image,(256,256))\n",
        "      return img_to_array(image)\n",
        "    else:\n",
        "      return np.array([])\n",
        "  except Exception as e:\n",
        "    print(f\"Error : {e}\")\n",
        "    return None\n"
      ]
    },
    {
      "cell_type": "markdown",
      "metadata": {
        "id": "lgXpVmNaIDE_"
      },
      "source": [
        "# **images converted into numpy array**"
      ]
    },
    {
      "cell_type": "code",
      "execution_count": 10,
      "metadata": {
        "id": "l6ubD8MPICgQ"
      },
      "outputs": [],
      "source": [
        "dir=\"/content/drive/MyDrive/content/project/dataset/data\"\n",
        "image_list,label_list=[],[]\n",
        "all_labels=['Blight','Common_Rust','Gray_Leaf_Spot','Healthy']\n",
        "binary_labels=[0,1,2]\n",
        "for directory in ['Blight','Common_Rust','Gray_Leaf_Spot','Healthy']:\n",
        "  plant_image_list=listdir(f\"{dir}/{directory}\")\n",
        "  temp=-1\n",
        "  for files in plant_image_list:\n",
        "    image_path=f\"{dir}/{directory}/{files}\"\n",
        "    image_list.append(convert_image_to_array(image_path))\n",
        "    label_list.append(binary_labels[temp])\n"
      ]
    },
    {
      "cell_type": "markdown",
      "metadata": {
        "id": "yBv7GZca3mEv"
      },
      "source": [
        "# **Visualize the class count and check for class imbalance **"
      ]
    },
    {
      "cell_type": "code",
      "execution_count": 11,
      "metadata": {
        "colab": {
          "base_uri": "https://localhost:8080/"
        },
        "id": "gKgPAHM33wxH",
        "outputId": "f7ff1c89-a0a0-4db1-ee91-785e7c1e23f8"
      },
      "outputs": [
        {
          "output_type": "execute_result",
          "data": {
            "text/plain": [
              "2    1760\n",
              "dtype: int64"
            ]
          },
          "metadata": {},
          "execution_count": 11
        }
      ],
      "source": [
        "label_counts=pd.DataFrame(label_list).value_counts()\n",
        "label_counts.head()"
      ]
    },
    {
      "cell_type": "code",
      "execution_count": 12,
      "metadata": {
        "colab": {
          "base_uri": "https://localhost:8080/"
        },
        "id": "EPA2l8kM4G82",
        "outputId": "4d41b0c7-9b53-4f2a-8c61-34a82b7f5949"
      },
      "outputs": [
        {
          "output_type": "execute_result",
          "data": {
            "text/plain": [
              "(256, 256, 3)"
            ]
          },
          "metadata": {},
          "execution_count": 12
        }
      ],
      "source": [
        "image_list[0].shape"
      ]
    },
    {
      "cell_type": "markdown",
      "metadata": {
        "id": "X-_W5htW4Sos"
      },
      "source": [
        "# **Splitting the dataset into train<validate and test sets**"
      ]
    },
    {
      "cell_type": "code",
      "execution_count": 13,
      "metadata": {
        "id": "1knv7e6f4Nqv"
      },
      "outputs": [],
      "source": [
        "x_train,x_test,y_train,y_test=train_test_split(image_list,label_list,test_size=0.2,random_state=10)"
      ]
    },
    {
      "cell_type": "code",
      "execution_count": 14,
      "metadata": {
        "id": "rDkhLUKw4mMP"
      },
      "outputs": [],
      "source": [
        "x_train=np.array(x_train,dtype=np.float16)/255.0\n",
        "x_test=np.array(x_test,dtype=np.float16)/255.0\n",
        "x_train=x_train.reshape(-1,256,256,3)\n",
        "x_test=x_test.reshape(-1,256,256,3)"
      ]
    },
    {
      "cell_type": "markdown",
      "metadata": {
        "id": "K0VVRDMe5GJc"
      },
      "source": [
        "# **perform one_hot encoding on target varaiable **"
      ]
    },
    {
      "cell_type": "code",
      "execution_count": 15,
      "metadata": {
        "id": "RjhtctD_5FEp"
      },
      "outputs": [],
      "source": [
        "y_train=to_categorical(y_train)\n",
        "y_test=to_categorical(y_test)"
      ]
    },
    {
      "cell_type": "markdown",
      "metadata": {
        "id": "ZFjewfnr6Yoh"
      },
      "source": [
        "# **CREATING THE MODEL ARCHITECTURE ,COMPILE TO MODEL AND THEN FIT IT USING THE TRAINING DATA**"
      ]
    },
    {
      "cell_type": "code",
      "execution_count": 16,
      "metadata": {
        "colab": {
          "base_uri": "https://localhost:8080/"
        },
        "id": "lHeWM8X56rJ6",
        "outputId": "0d500798-769b-4dcd-ea5c-77808c50624b"
      },
      "outputs": [
        {
          "output_type": "stream",
          "name": "stdout",
          "text": [
            "Model: \"sequential\"\n",
            "_________________________________________________________________\n",
            " Layer (type)                Output Shape              Param #   \n",
            "=================================================================\n",
            " conv2d (Conv2D)             (None, 256, 256, 32)      896       \n",
            "                                                                 \n",
            " max_pooling2d (MaxPooling2  (None, 85, 85, 32)        0         \n",
            " D)                                                              \n",
            "                                                                 \n",
            " conv2d_1 (Conv2D)           (None, 85, 85, 16)        4624      \n",
            "                                                                 \n",
            " max_pooling2d_1 (MaxPoolin  (None, 42, 42, 16)        0         \n",
            " g2D)                                                            \n",
            "                                                                 \n",
            " flatten (Flatten)           (None, 28224)             0         \n",
            "                                                                 \n",
            " dense (Dense)               (None, 8)                 225800    \n",
            "                                                                 \n",
            " dense_1 (Dense)             (None, 3)                 27        \n",
            "                                                                 \n",
            "=================================================================\n",
            "Total params: 231347 (903.70 KB)\n",
            "Trainable params: 231347 (903.70 KB)\n",
            "Non-trainable params: 0 (0.00 Byte)\n",
            "_________________________________________________________________\n"
          ]
        }
      ],
      "source": [
        "model=Sequential()\n",
        "model.add(Conv2D(32,(3,3),padding=\"same\",input_shape=(256,256,3),activation=\"relu\"))\n",
        "model.add(MaxPooling2D(pool_size=(3,3)))\n",
        "model.add(Conv2D(16,(3,3),padding=\"same\",activation=\"relu\"))\n",
        "model.add(MaxPooling2D(pool_size=(2,2)))\n",
        "model.add(Flatten())\n",
        "model.add(Dense(8,activation=\"relu\"))\n",
        "model.add(Dense(3,activation=\"softmax\"))\n",
        "model.summary()"
      ]
    },
    {
      "cell_type": "code",
      "execution_count": 20,
      "metadata": {
        "id": "hcad1szy8GRa"
      },
      "outputs": [],
      "source": [
        "model.compile(loss='categorical_crossentropy',optimizer=Adam(0.0001),metrics=['accuracy'])\n"
      ]
    },
    {
      "cell_type": "code",
      "execution_count": 18,
      "metadata": {
        "id": "R_GnocbE8X2T"
      },
      "outputs": [],
      "source": [
        "x_train,x_val,y_train,y_val=train_test_split(x_train,y_train)"
      ]
    },
    {
      "cell_type": "code",
      "execution_count": 19,
      "metadata": {
        "colab": {
          "base_uri": "https://localhost:8080/"
        },
        "id": "NO7cWkU_8nzT",
        "outputId": "1e53af12-ba11-4708-a7c9-dd54f4709b7c"
      },
      "outputs": [
        {
          "output_type": "stream",
          "name": "stdout",
          "text": [
            "Epoch 1/50\n",
            "53/53 [==============================] - 70s 1s/step - loss: 0.0692 - accuracy: 0.9991 - val_loss: 2.5724e-04 - val_accuracy: 1.0000\n",
            "Epoch 2/50\n",
            "53/53 [==============================] - 66s 1s/step - loss: 2.1220e-04 - accuracy: 1.0000 - val_loss: 1.7128e-04 - val_accuracy: 1.0000\n",
            "Epoch 3/50\n",
            "53/53 [==============================] - 62s 1s/step - loss: 1.5464e-04 - accuracy: 1.0000 - val_loss: 1.2560e-04 - val_accuracy: 1.0000\n",
            "Epoch 4/50\n",
            "53/53 [==============================] - 64s 1s/step - loss: 1.1379e-04 - accuracy: 1.0000 - val_loss: 9.0111e-05 - val_accuracy: 1.0000\n",
            "Epoch 5/50\n",
            "53/53 [==============================] - 65s 1s/step - loss: 8.0949e-05 - accuracy: 1.0000 - val_loss: 6.1532e-05 - val_accuracy: 1.0000\n",
            "Epoch 6/50\n",
            "53/53 [==============================] - 65s 1s/step - loss: 5.3788e-05 - accuracy: 1.0000 - val_loss: 3.8263e-05 - val_accuracy: 1.0000\n",
            "Epoch 7/50\n",
            "53/53 [==============================] - 61s 1s/step - loss: 3.4230e-05 - accuracy: 1.0000 - val_loss: 2.2561e-05 - val_accuracy: 1.0000\n",
            "Epoch 8/50\n",
            "53/53 [==============================] - 67s 1s/step - loss: 2.1125e-05 - accuracy: 1.0000 - val_loss: 1.4606e-05 - val_accuracy: 1.0000\n",
            "Epoch 9/50\n",
            "53/53 [==============================] - 66s 1s/step - loss: 1.3903e-05 - accuracy: 1.0000 - val_loss: 9.6387e-06 - val_accuracy: 1.0000\n",
            "Epoch 10/50\n",
            "53/53 [==============================] - 61s 1s/step - loss: 9.5337e-06 - accuracy: 1.0000 - val_loss: 6.8661e-06 - val_accuracy: 1.0000\n",
            "Epoch 11/50\n",
            "53/53 [==============================] - 63s 1s/step - loss: 6.9284e-06 - accuracy: 1.0000 - val_loss: 5.1006e-06 - val_accuracy: 1.0000\n",
            "Epoch 12/50\n",
            "53/53 [==============================] - 64s 1s/step - loss: 5.2156e-06 - accuracy: 1.0000 - val_loss: 4.0235e-06 - val_accuracy: 1.0000\n",
            "Epoch 13/50\n",
            "53/53 [==============================] - 60s 1s/step - loss: 4.0864e-06 - accuracy: 1.0000 - val_loss: 3.0883e-06 - val_accuracy: 1.0000\n",
            "Epoch 14/50\n",
            "53/53 [==============================] - 60s 1s/step - loss: 3.2582e-06 - accuracy: 1.0000 - val_loss: 2.5503e-06 - val_accuracy: 1.0000\n",
            "Epoch 15/50\n",
            "53/53 [==============================] - 65s 1s/step - loss: 2.6880e-06 - accuracy: 1.0000 - val_loss: 2.0769e-06 - val_accuracy: 1.0000\n",
            "Epoch 16/50\n",
            "53/53 [==============================] - 65s 1s/step - loss: 2.2489e-06 - accuracy: 1.0000 - val_loss: 1.7630e-06 - val_accuracy: 1.0000\n",
            "Epoch 17/50\n",
            "53/53 [==============================] - 65s 1s/step - loss: 1.9148e-06 - accuracy: 1.0000 - val_loss: 1.5107e-06 - val_accuracy: 1.0000\n",
            "Epoch 18/50\n",
            "53/53 [==============================] - 72s 1s/step - loss: 1.6469e-06 - accuracy: 1.0000 - val_loss: 1.3295e-06 - val_accuracy: 1.0000\n",
            "Epoch 19/50\n",
            "53/53 [==============================] - 60s 1s/step - loss: 1.4285e-06 - accuracy: 1.0000 - val_loss: 1.1551e-06 - val_accuracy: 1.0000\n",
            "Epoch 20/50\n",
            "53/53 [==============================] - 64s 1s/step - loss: 1.2500e-06 - accuracy: 1.0000 - val_loss: 1.0420e-06 - val_accuracy: 1.0000\n",
            "Epoch 21/50\n",
            "53/53 [==============================] - 62s 1s/step - loss: 1.1072e-06 - accuracy: 1.0000 - val_loss: 9.1198e-07 - val_accuracy: 1.0000\n",
            "Epoch 22/50\n",
            "53/53 [==============================] - 62s 1s/step - loss: 9.8228e-07 - accuracy: 1.0000 - val_loss: 8.2021e-07 - val_accuracy: 1.0000\n",
            "Epoch 23/50\n",
            "53/53 [==============================] - 59s 1s/step - loss: 8.7844e-07 - accuracy: 1.0000 - val_loss: 7.5112e-07 - val_accuracy: 1.0000\n",
            "Epoch 24/50\n",
            "53/53 [==============================] - 64s 1s/step - loss: 7.9604e-07 - accuracy: 1.0000 - val_loss: 6.7561e-07 - val_accuracy: 1.0000\n",
            "Epoch 25/50\n",
            "53/53 [==============================] - 60s 1s/step - loss: 7.1928e-07 - accuracy: 1.0000 - val_loss: 6.1533e-07 - val_accuracy: 1.0000\n",
            "Epoch 26/50\n",
            "53/53 [==============================] - 66s 1s/step - loss: 6.5314e-07 - accuracy: 1.0000 - val_loss: 5.7401e-07 - val_accuracy: 1.0000\n",
            "Epoch 27/50\n",
            "53/53 [==============================] - 65s 1s/step - loss: 5.9704e-07 - accuracy: 1.0000 - val_loss: 5.2119e-07 - val_accuracy: 1.0000\n",
            "Epoch 28/50\n",
            "53/53 [==============================] - 67s 1s/step - loss: 5.4477e-07 - accuracy: 1.0000 - val_loss: 4.8190e-07 - val_accuracy: 1.0000\n",
            "Epoch 29/50\n",
            "53/53 [==============================] - 62s 1s/step - loss: 4.9985e-07 - accuracy: 1.0000 - val_loss: 4.4905e-07 - val_accuracy: 1.0000\n",
            "Epoch 30/50\n",
            "53/53 [==============================] - 67s 1s/step - loss: 4.6192e-07 - accuracy: 1.0000 - val_loss: 4.1417e-07 - val_accuracy: 1.0000\n",
            "Epoch 31/50\n",
            "53/53 [==============================] - 66s 1s/step - loss: 4.2478e-07 - accuracy: 1.0000 - val_loss: 3.8877e-07 - val_accuracy: 1.0000\n",
            "Epoch 32/50\n",
            "53/53 [==============================] - 67s 1s/step - loss: 3.9250e-07 - accuracy: 1.0000 - val_loss: 3.5660e-07 - val_accuracy: 1.0000\n",
            "Epoch 33/50\n",
            "53/53 [==============================] - 65s 1s/step - loss: 3.6383e-07 - accuracy: 1.0000 - val_loss: 3.3493e-07 - val_accuracy: 1.0000\n",
            "Epoch 34/50\n",
            "53/53 [==============================] - 66s 1s/step - loss: 3.3933e-07 - accuracy: 1.0000 - val_loss: 3.1292e-07 - val_accuracy: 1.0000\n",
            "Epoch 35/50\n",
            "53/53 [==============================] - 67s 1s/step - loss: 3.1630e-07 - accuracy: 1.0000 - val_loss: 2.9497e-07 - val_accuracy: 1.0000\n",
            "Epoch 36/50\n",
            "53/53 [==============================] - 63s 1s/step - loss: 2.9587e-07 - accuracy: 1.0000 - val_loss: 2.7736e-07 - val_accuracy: 1.0000\n",
            "Epoch 37/50\n",
            "53/53 [==============================] - 63s 1s/step - loss: 2.7736e-07 - accuracy: 1.0000 - val_loss: 2.6212e-07 - val_accuracy: 1.0000\n",
            "Epoch 38/50\n",
            "53/53 [==============================] - 72s 1s/step - loss: 2.5975e-07 - accuracy: 1.0000 - val_loss: 2.4823e-07 - val_accuracy: 1.0000\n",
            "Epoch 39/50\n",
            "53/53 [==============================] - 65s 1s/step - loss: 2.4372e-07 - accuracy: 1.0000 - val_loss: 2.3333e-07 - val_accuracy: 1.0000\n",
            "Epoch 40/50\n",
            "53/53 [==============================] - 66s 1s/step - loss: 2.2961e-07 - accuracy: 1.0000 - val_loss: 2.2047e-07 - val_accuracy: 1.0000\n",
            "Epoch 41/50\n",
            "53/53 [==============================] - 65s 1s/step - loss: 2.1493e-07 - accuracy: 1.0000 - val_loss: 2.0997e-07 - val_accuracy: 1.0000\n",
            "Epoch 42/50\n",
            "53/53 [==============================] - 66s 1s/step - loss: 2.0365e-07 - accuracy: 1.0000 - val_loss: 1.9947e-07 - val_accuracy: 1.0000\n",
            "Epoch 43/50\n",
            "53/53 [==============================] - 65s 1s/step - loss: 1.9179e-07 - accuracy: 1.0000 - val_loss: 1.9100e-07 - val_accuracy: 1.0000\n",
            "Epoch 44/50\n",
            "53/53 [==============================] - 64s 1s/step - loss: 1.8208e-07 - accuracy: 1.0000 - val_loss: 1.7983e-07 - val_accuracy: 1.0000\n",
            "Epoch 45/50\n",
            "53/53 [==============================] - 65s 1s/step - loss: 1.7238e-07 - accuracy: 1.0000 - val_loss: 1.7238e-07 - val_accuracy: 1.0000\n",
            "Epoch 46/50\n",
            "53/53 [==============================] - 61s 1s/step - loss: 1.6289e-07 - accuracy: 1.0000 - val_loss: 1.6289e-07 - val_accuracy: 1.0000\n",
            "Epoch 47/50\n",
            "53/53 [==============================] - 61s 1s/step - loss: 1.5375e-07 - accuracy: 1.0000 - val_loss: 1.5646e-07 - val_accuracy: 1.0000\n",
            "Epoch 48/50\n",
            "53/53 [==============================] - 66s 1s/step - loss: 1.4686e-07 - accuracy: 1.0000 - val_loss: 1.4833e-07 - val_accuracy: 1.0000\n",
            "Epoch 49/50\n",
            "53/53 [==============================] - 61s 1s/step - loss: 1.3840e-07 - accuracy: 1.0000 - val_loss: 1.4156e-07 - val_accuracy: 1.0000\n",
            "Epoch 50/50\n",
            "53/53 [==============================] - 66s 1s/step - loss: 1.3095e-07 - accuracy: 1.0000 - val_loss: 1.3546e-07 - val_accuracy: 1.0000\n"
          ]
        }
      ],
      "source": [
        "epochs=50\n",
        "batch_size=20\n",
        "history=model.fit(x_train,y_train,batch_size,epochs=epochs,validation_data=(x_val,y_val))"
      ]
    },
    {
      "cell_type": "code",
      "execution_count": 22,
      "metadata": {
        "id": "vFlPuq5TCISK"
      },
      "outputs": [],
      "source": [
        "model.save(\"/content/drive/MyDrive/content/project/model/plant_disease_model.h5\")"
      ]
    },
    {
      "cell_type": "code",
      "execution_count": null,
      "metadata": {
        "colab": {
          "base_uri": "https://localhost:8080/",
          "height": 504
        },
        "id": "A8gh1jpNDEC0",
        "outputId": "5bc58119-a5bb-4f98-d8c9-128055a19b7e"
      },
      "outputs": [
        {
          "data": {
            "text/plain": [
              "Text(0.5, 0, 'Epochs')"
            ]
          },
          "execution_count": 44,
          "metadata": {},
          "output_type": "execute_result"
        },
        {
          "data": {
            "image/png": "[encoded data removed]",
            "text/plain": [
              "<Figure size 1200x500 with 1 Axes>"
            ]
          },
          "metadata": {},
          "output_type": "display_data"
        }
      ],
      "source": [
        "plt.figure(figsize=(12,5))\n",
        "plt.plot(history.history['accuracy'],color='r')\n",
        "plt.plot(history.history['val_accuracy'],color='b')\n",
        "plt.title(\"Model Accuracy\")\n",
        "plt.ylabel(\"Accuracy\")\n",
        "plt.xlabel(\"Epochs\")"
      ]
    },
    {
      "cell_type": "markdown",
      "metadata": {
        "id": "r4jwwj4Y7erK"
      },
      "source": []
    }
  ],
  "metadata": {
    "colab": {
      "provenance": []
    },
    "kernelspec": {
      "display_name": "Python 3",
      "name": "python3"
    },
    "language_info": {
      "name": "python"
    }
  },
  "nbformat": 4,
  "nbformat_minor": 0
}